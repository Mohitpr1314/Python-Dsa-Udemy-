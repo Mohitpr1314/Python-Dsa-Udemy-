{
 "cells": [
  {
   "cell_type": "code",
   "execution_count": 9,
   "metadata": {},
   "outputs": [],
   "source": [
    "class StackusingList:\n",
    "    def __init__(self):\n",
    "        self.stack = []\n",
    "\n",
    "    def push(self, data):\n",
    "        self.stack.append(data)\n",
    "        print(f\"The value {data} pushed.\")\n",
    "        return self.stack\n",
    "\n",
    "    def size(self):\n",
    "        return len(self.stack)\n",
    "\n",
    "    def is_empty(self):\n",
    "        return len(self.stack) == 0\n",
    "\n",
    "    def top(self):\n",
    "        if self.is_empty():\n",
    "            print(\"stack is empty.\")\n",
    "            return None\n",
    "        return self.stack[-1]\n",
    "\n",
    "    def pop(self):\n",
    "        if self.is_empty():\n",
    "            print(\"stack is empty\")\n",
    "            return None\n",
    "        return self.stack.pop()\n",
    "\n",
    "\n",
    "\n",
    "\n"
   ]
  },
  {
   "cell_type": "code",
   "execution_count": 10,
   "metadata": {},
   "outputs": [
    {
     "name": "stdout",
     "output_type": "stream",
     "text": [
      "True\n",
      "The value 10 pushed.\n",
      "[10]\n",
      "The value 20 pushed.\n",
      "[10, 20]\n",
      "The value 30 pushed.\n",
      "[10, 20, 30]\n",
      "The value 40 pushed.\n",
      "[10, 20, 30, 40]\n",
      "False\n",
      "40\n",
      "30\n",
      "2\n",
      "20\n"
     ]
    }
   ],
   "source": [
    "myStack = StackusingList()\n",
    "\n",
    "print(myStack.is_empty())\n",
    "print(myStack.push(10))\n",
    "print(myStack.push(20))\n",
    "print(myStack.push(30))\n",
    "print(myStack.push(40))\n",
    "print(myStack.is_empty())\n",
    "print(myStack.pop())\n",
    "print(myStack.pop())\n",
    "print(myStack.size())\n",
    "print(myStack.top())\n"
   ]
  },
  {
   "cell_type": "code",
   "execution_count": 17,
   "metadata": {},
   "outputs": [],
   "source": [
    "class Node:\n",
    "    def __init__(self, data):\n",
    "        self.data = data\n",
    "        self.next = None\n",
    "\n",
    "class stackusingLL:\n",
    "    def __init__(self):\n",
    "        self.head = None\n",
    "        self._size = 0\n",
    "\n",
    "    \n",
    "    \n",
    "    def push(self,data):\n",
    "        newNode = Node(data)\n",
    "        self._size += 1\n",
    "        if self.head == None:\n",
    "            self.head = newNode\n",
    "            return f\"Added {data} to the stack\"\n",
    "        newNode.next = self.head\n",
    "        self.head = newNode\n",
    "        return f\"Added {data} to the stack\"\n",
    "\n",
    "    def top(self):\n",
    "        if self.head == None or self.size == 0:\n",
    "            return 'Stack is Empty'\n",
    "        \n",
    "        return self.head.data\n",
    "    \n",
    "    def pop(self):\n",
    "        if self.head == None or self.size == 0:\n",
    "            return 'Stack is Empty'\n",
    "        datavalue = self.head.data\n",
    "        self.head = self.head.next\n",
    "        self._size -= 1\n",
    "        return datavalue\n",
    "    \n",
    "\n",
    "\n",
    "    def size(self):\n",
    "        return self._size\n",
    "    \n",
    "    def is_empty(self):\n",
    "        return self._size == 0\n",
    "\n",
    "\n",
    "        \n"
   ]
  },
  {
   "cell_type": "code",
   "execution_count": 18,
   "metadata": {},
   "outputs": [
    {
     "name": "stdout",
     "output_type": "stream",
     "text": [
      "True\n",
      "Added 10 to the stack\n",
      "Added 20 to the stack\n",
      "Added 30 to the stack\n",
      "Added 40 to the stack\n",
      "False\n",
      "40\n",
      "30\n",
      "2\n",
      "20\n"
     ]
    }
   ],
   "source": [
    "myStack = stackusingLL()\n",
    "\n",
    "print(myStack.is_empty())\n",
    "print(myStack.push(10))\n",
    "print(myStack.push(20))\n",
    "print(myStack.push(30))\n",
    "print(myStack.push(40))\n",
    "print(myStack.is_empty())\n",
    "print(myStack.pop())\n",
    "print(myStack.pop())\n",
    "print(myStack.size())\n",
    "print(myStack.top())"
   ]
  },
  {
   "cell_type": "code",
   "execution_count": null,
   "metadata": {},
   "outputs": [],
   "source": []
  }
 ],
 "metadata": {
  "kernelspec": {
   "display_name": "Python 3",
   "language": "python",
   "name": "python3"
  },
  "language_info": {
   "codemirror_mode": {
    "name": "ipython",
    "version": 3
   },
   "file_extension": ".py",
   "mimetype": "text/x-python",
   "name": "python",
   "nbconvert_exporter": "python",
   "pygments_lexer": "ipython3",
   "version": "3.12.1"
  }
 },
 "nbformat": 4,
 "nbformat_minor": 2
}
