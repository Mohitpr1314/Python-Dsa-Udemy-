{
 "cells": [
  {
   "cell_type": "markdown",
   "metadata": {},
   "source": [
    "# Queue using List"
   ]
  },
  {
   "cell_type": "code",
   "execution_count": 5,
   "metadata": {},
   "outputs": [],
   "source": [
    "class queueList:\n",
    "    def __init__(self):\n",
    "        self.__queue = []\n",
    "\n",
    "\n",
    "    def size(self):\n",
    "        return len(self.__queue)\n",
    "\n",
    "    def isEmpty(self):\n",
    "        return len(self.__queue) == 0\n",
    "\n",
    "    def enqueue(self, data):\n",
    "        self.__queue.append(data)\n",
    "        return self.__queue\n",
    "\n",
    "\n",
    "    def dequeue(self):\n",
    "        return self.__queue.pop(0)\n",
    "\n",
    "    def front(self):\n",
    "        return self.__queue[0]\n",
    "\n",
    "    "
   ]
  },
  {
   "cell_type": "code",
   "execution_count": 6,
   "metadata": {},
   "outputs": [
    {
     "name": "stdout",
     "output_type": "stream",
     "text": [
      "3\n",
      "False\n",
      "10\n",
      "10\n",
      "20\n",
      "30\n",
      "1\n"
     ]
    }
   ],
   "source": [
    "Q = queueList()\n",
    "\n",
    "Q.enqueue(10)\n",
    "Q.enqueue(20)\n",
    "Q.enqueue(30)\n",
    "print(Q.size())\n",
    "print(Q.isEmpty())\n",
    "print(Q.front())\n",
    "print(Q.dequeue())\n",
    "print(Q.dequeue())\n",
    "print(Q.front())\n",
    "print(Q.size())"
   ]
  },
  {
   "cell_type": "markdown",
   "metadata": {},
   "source": [
    "# Queue Using LinkedList"
   ]
  },
  {
   "cell_type": "code",
   "execution_count": null,
   "metadata": {},
   "outputs": [],
   "source": [
    "class Node:\n",
    "    def __init__(self,data):\n",
    "        self.data = data\n",
    "        self.next = None\n",
    "\n",
    "\n",
    "class QueueLinkedlist:\n",
    "    def __init__(self):\n",
    "        self.head = None\n",
    "        self.tail = None\n",
    "        self.len = 0\n",
    "\n",
    "\n",
    "    def size(self):\n",
    "        return self.len\n",
    "    \n",
    "\n",
    "    def isEmpty(self):\n",
    "        if self.head == 0 or self.len == 0:\n",
    "            return True\n",
    "        return False\n",
    "    \n",
    "\n",
    "    def enQueue(self, data):\n",
    "        newNode = Node(data)\n",
    "        self.len += 1\n",
    "        if self.head == None and self.len == 0:\n",
    "            self.head = newNode\n",
    "\n",
    "        self.tail = newNode\n",
    "\n",
    "\n",
    "    def deQueue(self):\n",
    "        if self.head == 0 and  self.len == 0:\n",
    "            return None\n",
    "        \n",
    "        pop = self.head.data\n",
    "        head = head.next\n",
    "        self.len -= 1\n",
    "        return pop\n",
    "    \n",
    "    def front(self):\n",
    "        if self.head ==0 and self.head.next ==0 :\n",
    "            return self.head.data\n",
    "        return self.tail.data\n",
    "\n",
    "\n",
    "        "
   ]
  }
 ],
 "metadata": {
  "kernelspec": {
   "display_name": "Python 3",
   "language": "python",
   "name": "python3"
  },
  "language_info": {
   "codemirror_mode": {
    "name": "ipython",
    "version": 3
   },
   "file_extension": ".py",
   "mimetype": "text/x-python",
   "name": "python",
   "nbconvert_exporter": "python",
   "pygments_lexer": "ipython3",
   "version": "3.12.1"
  }
 },
 "nbformat": 4,
 "nbformat_minor": 2
}
