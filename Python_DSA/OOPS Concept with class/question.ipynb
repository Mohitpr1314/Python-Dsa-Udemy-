{
 "cells": [
  {
   "cell_type": "markdown",
   "metadata": {},
   "source": [
    "# Bank Account System\n",
    "# Question 0: Class for Bank Account \"\"\" Design a Python class named `BankAccount` to represent bank accounts. Theory: A bank account typically includes attributes such as account number, balance, and account holder name. The class should handle operations such as deposit, withdrawal, and transfer of funds between accounts. Operations: 1. Deposit: Add funds to the account 2. Withdrawal: Subtract funds from the account 3. Transfer: Transfer funds from one account to another Test Cases: Test Case 1: acc1 = BankAccount(\"John Doe\", 1000) acc2 = BankAccount(\"Jane Smith\", 2000) assert acc1.balance == 1000 assert acc2.balance == 2000 acc1.deposit(500) acc2.withdraw(100) acc1.transfer(acc2, 200) assert acc1.balance == 1300 assert acc2.balance == 2300 Test Case 2: acc3 = BankAccount(\"Alice Johnson\", 500) acc4 = BankAccount(\"Bob Brown\", 1500) assert acc3.balance == 500 assert acc4.balance == 1500 acc3.deposit(100) acc4.withdraw(200) acc3.transfer(acc4, 300) assert acc3.balance == 400 assert acc4.balance == 1800 \"\"\""
   ]
  },
  {
   "cell_type": "code",
   "execution_count": null,
   "metadata": {},
   "outputs": [],
   "source": [
    "class BankAccount:\n",
    "    account_counter = 1\n",
    "    \n",
    "    def __init__(self, holder_name, initial_balance):\n",
    "        self.account_number = BankAccount.account_counter\n",
    "        BankAccount.account_counter += 1\n",
    "        self.holder_name = holder_name\n",
    "        self.balance = initial_balance\n",
    "    \n",
    "    def deposit(self, amount):\n",
    "        if amount > 0:\n",
    "            self.balance += amount\n",
    "        else:\n",
    "            raise ValueError(\"Deposit amount must be positive\")\n",
    "    \n",
    "    def withdraw(self, amount):\n",
    "        if amount > 0:\n",
    "            if self.balance >= amount:\n",
    "                self.balance -= amount\n",
    "            else:\n",
    "                raise ValueError(\"Insufficient funds\")\n",
    "        else:\n",
    "            raise ValueError(\"Withdrawal amount must be positive\")\n",
    "    \n",
    "    def transfer(self, other_account, amount):\n",
    "        if amount > 0:\n",
    "            if self.balance >= amount:\n",
    "                self.balance -= amount\n",
    "                other_account.deposit(amount)\n",
    "            else:\n",
    "                raise ValueError(\"Insufficient funds for transfer\")\n",
    "        else:\n",
    "            raise ValueError(\"Transfer amount must be positive\")\n",
    "\n"
   ]
  },
  {
   "cell_type": "markdown",
   "metadata": {},
   "source": [
    "# Calculator\n",
    "Create a Python class named Calculator with the following specifications:\n",
    "\n",
    "Constructor Method (__init__): Initializes two attributes, num1 and num2.\n",
    "\n",
    "Method add: Takes no arguments and returns the sum of num1 and num2.\n",
    "\n",
    "Method subtract: Takes no arguments and returns the result of subtracting num2 from num1.\n",
    "\n",
    "Method multiply: Takes a single argument factor and returns the product of num1 and factor.\n",
    "\n",
    "Method divide: Takes a single argument divisor and returns the result of dividing num1 by divisor. If divisor is zero, print an error message and return None.\n",
    "\n",
    "Example:\n",
    "\n",
    "Creating an instance of the Calculator class\n",
    "calculator = Calculator(10, 5)\n",
    " \n",
    "# Testing the add method\n",
    "print(\"Addition Result:\", calculator.add())  # Output: 15\n",
    " \n",
    "# Testing the subtract method\n",
    "print(\"Subtraction Result:\", calculator.subtract())  # Output: 5\n",
    " \n",
    "# Testing the multiply method\n",
    "print(\"Multiplication Result:\", calculator.multiply(3))  # Output: 30\n",
    " \n",
    "# Testing the divide method\n",
    "print(\"Division Result:\", calculator.divide(2))  # Output: 5.0\n",
    "print(\"Division Result:\", calculator.divide(0))  # Output: Error: Cannot divide by zero"
   ]
  },
  {
   "cell_type": "code",
   "execution_count": null,
   "metadata": {},
   "outputs": [],
   "source": [
    "class Calculator:\n",
    "    def __init__(self, num1, num2):\n",
    "        # Initialize the attributes num1 and num2\n",
    "        self.num1 = num1\n",
    "        self.num2 = num2\n",
    "\n",
    "    def add(self):\n",
    "        return self.num1+self.num2\n",
    "\n",
    "    def subtract(self):\n",
    "        return self.num1-self.num2\n",
    "\n",
    "    def multiply(self, factor):\n",
    "        return self.num1*factor\n",
    "\n",
    "    def divide(self, divisor):\n",
    "        # Return the result of dividing num1 by divisor\n",
    "        # If divisor is zero, print an error message and return None\n",
    "        if divisor != 0:\n",
    "            return self.num1 / divisor\n",
    "        else:\n",
    "            return None\n"
   ]
  },
  {
   "cell_type": "code",
   "execution_count": 1,
   "metadata": {},
   "outputs": [
    {
     "data": {
      "text/plain": [
       "3"
      ]
     },
     "execution_count": 1,
     "metadata": {},
     "output_type": "execute_result"
    }
   ],
   "source": [
    "123%10"
   ]
  }
 ],
 "metadata": {
  "kernelspec": {
   "display_name": "Python 3",
   "language": "python",
   "name": "python3"
  },
  "language_info": {
   "codemirror_mode": {
    "name": "ipython",
    "version": 3
   },
   "file_extension": ".py",
   "mimetype": "text/x-python",
   "name": "python",
   "nbconvert_exporter": "python",
   "pygments_lexer": "ipython3",
   "version": "3.12.1"
  }
 },
 "nbformat": 4,
 "nbformat_minor": 2
}
